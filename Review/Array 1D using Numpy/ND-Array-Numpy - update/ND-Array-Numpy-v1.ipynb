{
 "cells": [
  {
   "cell_type": "code",
   "execution_count": 1,
   "metadata": {},
   "outputs": [],
   "source": [
    "import numpy as np"
   ]
  },
  {
   "attachments": {},
   "cell_type": "markdown",
   "metadata": {},
   "source": [
    "# Creating Arrays"
   ]
  },
  {
   "attachments": {},
   "cell_type": "markdown",
   "metadata": {},
   "source": [
    "## Bài tập 1: Bạn hãy xây dựng chương trình thực hiện:\n",
    "    \n",
    "* Tạo một mảng 1D từ danh sách [1, 2, 3, 4, 5].\n",
    "\n",
    "* Tạo một mảng 2D kích thước 2x3 từ danh sách [[1, 2, 3], [4, 5, 6]].\n",
    "\n",
    "* Tạo một mảng 3D kích thước 2x2x3 từ danh sách [[[1, 2, 3], [4, 5, 6]], [[7, 8, 9], [10, 11, 12]]].\n"
   ]
  },
  {
   "cell_type": "code",
   "execution_count": 5,
   "metadata": {},
   "outputs": [
    {
     "name": "stdout",
     "output_type": "stream",
     "text": [
      "[1 2 3 4 5]\n"
     ]
    }
   ],
   "source": [
    "arr_1d = np.array([1, 2, 3, 4, 5])\n",
    "print(arr_1d)"
   ]
  },
  {
   "cell_type": "code",
   "execution_count": 21,
   "metadata": {},
   "outputs": [
    {
     "ename": "ValueError",
     "evalue": "setting an array element with a sequence. The requested array has an inhomogeneous shape after 1 dimensions. The detected shape was (3,) + inhomogeneous part.",
     "output_type": "error",
     "traceback": [
      "\u001b[1;31m---------------------------------------------------------------------------\u001b[0m",
      "\u001b[1;31mValueError\u001b[0m                                Traceback (most recent call last)",
      "Cell \u001b[1;32mIn[21], line 1\u001b[0m\n\u001b[1;32m----> 1\u001b[0m arr_2d \u001b[39m=\u001b[39m np\u001b[39m.\u001b[39;49marray([[\u001b[39m1\u001b[39;49m, \u001b[39m2\u001b[39;49m, \u001b[39m3\u001b[39;49m],[\u001b[39m4\u001b[39;49m, \u001b[39m5\u001b[39;49m, \u001b[39m6\u001b[39;49m], [\u001b[39m1\u001b[39;49m, \u001b[39m2\u001b[39;49m]])\n\u001b[0;32m      2\u001b[0m \u001b[39mprint\u001b[39m(arr_2d)\n",
      "\u001b[1;31mValueError\u001b[0m: setting an array element with a sequence. The requested array has an inhomogeneous shape after 1 dimensions. The detected shape was (3,) + inhomogeneous part."
     ]
    }
   ],
   "source": [
    "arr_2d = np.array([[1, 2, 3],[4, 5, 6], [1, 2]])\n",
    "print(arr_2d)"
   ]
  },
  {
   "cell_type": "code",
   "execution_count": 15,
   "metadata": {},
   "outputs": [
    {
     "name": "stdout",
     "output_type": "stream",
     "text": [
      "[[[ 1  2  3]\n",
      "  [ 4  5  6]]\n",
      "\n",
      " [[ 7  8  9]\n",
      "  [10 11 12]]]\n"
     ]
    }
   ],
   "source": [
    "arr_3d = np.array([\n",
    "    [\n",
    "        [1, 2, 3], \n",
    "        [4, 5, 6]\n",
    "    ],\n",
    "    [\n",
    "        [7, 8, 9],\n",
    "        [10, 11, 12]\n",
    "    ]\n",
    "\n",
    "])\n",
    "\n",
    "print(arr_3d)"
   ]
  },
  {
   "cell_type": "code",
   "execution_count": 19,
   "metadata": {},
   "outputs": [
    {
     "ename": "ValueError",
     "evalue": "setting an array element with a sequence. The requested array has an inhomogeneous shape after 1 dimensions. The detected shape was (2,) + inhomogeneous part.",
     "output_type": "error",
     "traceback": [
      "\u001b[1;31m---------------------------------------------------------------------------\u001b[0m",
      "\u001b[1;31mValueError\u001b[0m                                Traceback (most recent call last)",
      "Cell \u001b[1;32mIn[19], line 1\u001b[0m\n\u001b[1;32m----> 1\u001b[0m arr_3d \u001b[39m=\u001b[39m np\u001b[39m.\u001b[39;49marray([\n\u001b[0;32m      2\u001b[0m     [\n\u001b[0;32m      3\u001b[0m         [\u001b[39m1\u001b[39;49m, \u001b[39m2\u001b[39;49m, \u001b[39m3\u001b[39;49m], \n\u001b[0;32m      4\u001b[0m         [\u001b[39m4\u001b[39;49m, \u001b[39m5\u001b[39;49m, \u001b[39m6\u001b[39;49m]\n\u001b[0;32m      5\u001b[0m     ],\n\u001b[0;32m      6\u001b[0m     [\n\u001b[0;32m      7\u001b[0m         [\u001b[39m7\u001b[39;49m, \u001b[39m8\u001b[39;49m, \u001b[39m9\u001b[39;49m]\n\u001b[0;32m      8\u001b[0m     ]\n\u001b[0;32m      9\u001b[0m \n\u001b[0;32m     10\u001b[0m ])\n",
      "\u001b[1;31mValueError\u001b[0m: setting an array element with a sequence. The requested array has an inhomogeneous shape after 1 dimensions. The detected shape was (2,) + inhomogeneous part."
     ]
    }
   ],
   "source": [
    "#Xác định lỗi và sửa lỗi trong code sau\n",
    "arr_3d = np.array([\n",
    "    [\n",
    "        [1, 2, 3], \n",
    "        [4, 5, 6]\n",
    "    ],\n",
    "    [\n",
    "        [7, 8, 9]\n",
    "    ]\n",
    "\n",
    "])"
   ]
  },
  {
   "attachments": {},
   "cell_type": "markdown",
   "metadata": {},
   "source": [
    "## Bài tập 2: Initial Placeholders\n",
    "* Khởi tạo một mảng 2D kích thước 3x4 với tất cả các phần tử là 0 bằng phương thức zeros()\n",
    "\n",
    "* Khởi tạo một mảng 2D kích thước 3x4 với tất cả các phần tử là 1 bằng phương thức ones()\n",
    "\n",
    "* Khởi tạo một mảng 1D có giá trị từ 1 đến 10 bằng phương thức arange()\n",
    "\n",
    "* Khởi tạo một mảng 3D kích thước 2x3x2 với tất cả các phần tử là 7 bằng phương thức full()\n",
    "\n",
    "* Khởi tạo một ma trận đơn vị (identity matrix) kích thước 4x4 bằng phương thức eye()\n",
    "\n",
    "* Khởi tạo một mảng 2D kích thước 3x3 với các giá trị ngẫu nhiên trong khoảng từ 0 đến 1 bằng phương thức random.random()\n"
   ]
  },
  {
   "attachments": {},
   "cell_type": "markdown",
   "metadata": {},
   "source": [
    "### 1. Khởi tạo một mảng 2D kích thước 3x4 với tất cả các phần tử là 0 bằng phương thức zeros()\n"
   ]
  },
  {
   "cell_type": "code",
   "execution_count": 35,
   "metadata": {},
   "outputs": [
    {
     "name": "stdout",
     "output_type": "stream",
     "text": [
      "[[0. 0. 0. 0.]\n",
      " [0. 0. 0. 0.]\n",
      " [0. 0. 0. 0.]]\n"
     ]
    }
   ],
   "source": [
    "import numpy as np\n",
    "\n",
    "arr_zeros = np.zeros((3, 4), dtype=float)\n",
    "print(arr_zeros)"
   ]
  },
  {
   "cell_type": "code",
   "execution_count": 40,
   "metadata": {},
   "outputs": [
    {
     "name": "stdout",
     "output_type": "stream",
     "text": [
      "[0 0 0]\n"
     ]
    }
   ],
   "source": [
    "arr_zeros = np.zeros(3, dtype=int)\n",
    "print(arr_zeros)"
   ]
  },
  {
   "attachments": {},
   "cell_type": "markdown",
   "metadata": {},
   "source": [
    "### 2. Khởi tạo một mảng 2D kích thước 3x4 với tất cả các phần tử là 1 bằng phương thức ones()\n"
   ]
  },
  {
   "cell_type": "code",
   "execution_count": 1,
   "metadata": {},
   "outputs": [
    {
     "name": "stdout",
     "output_type": "stream",
     "text": [
      "[[1. 1. 1. 1.]\n",
      " [1. 1. 1. 1.]\n",
      " [1. 1. 1. 1.]]\n"
     ]
    }
   ],
   "source": [
    "import numpy as np\n",
    "\n",
    "arr_ones = np.ones((3, 4))\n",
    "print(arr_ones)"
   ]
  },
  {
   "attachments": {},
   "cell_type": "markdown",
   "metadata": {},
   "source": [
    "### 3. Khởi tạo một mảng 1D có giá trị từ 1 đến 10 bằng phương thức arange()"
   ]
  },
  {
   "cell_type": "code",
   "execution_count": 50,
   "metadata": {},
   "outputs": [
    {
     "name": "stdout",
     "output_type": "stream",
     "text": [
      "[2.  2.5 3.  3.5]\n"
     ]
    }
   ],
   "source": [
    "import numpy as np\n",
    "\n",
    "arr_arange = np.arange(2, 4, 0.5)\n",
    "print(arr_arange)"
   ]
  },
  {
   "cell_type": "code",
   "execution_count": 61,
   "metadata": {},
   "outputs": [
    {
     "name": "stdout",
     "output_type": "stream",
     "text": [
      "['2023-06-13' '2023-06-14' '2023-06-15' '2023-06-16' '2023-06-17'\n",
      " '2023-06-18' '2023-06-19' '2023-06-20' '2023-06-21' '2023-06-22'\n",
      " '2023-06-23' '2023-06-24' '2023-06-25' '2023-06-26' '2023-06-27'\n",
      " '2023-06-28' '2023-06-29']\n"
     ]
    }
   ],
   "source": [
    "timearray = np.arange('2023-06-13', '2023-06-30',np.timedelta64(1, 'D'), dtype='datetime64')\n",
    "print(timearray)\n"
   ]
  },
  {
   "attachments": {},
   "cell_type": "markdown",
   "metadata": {},
   "source": [
    "### 4. Khởi tạo một mảng 3D kích thước 2x3x2 với tất cả các phần tử là 7 bằng phương thức full()"
   ]
  },
  {
   "cell_type": "code",
   "execution_count": 69,
   "metadata": {},
   "outputs": [
    {
     "name": "stdout",
     "output_type": "stream",
     "text": [
      "[[[7 7]\n",
      "  [7 7]\n",
      "  [7 7]]\n",
      "\n",
      " [[7 7]\n",
      "  [7 7]\n",
      "  [7 7]]]\n"
     ]
    }
   ],
   "source": [
    "import numpy as np\n",
    "\n",
    "arr_full = np.full((2, 3, 2), 7)\n",
    "print(arr_full)"
   ]
  },
  {
   "cell_type": "code",
   "execution_count": 70,
   "metadata": {},
   "outputs": [
    {
     "name": "stdout",
     "output_type": "stream",
     "text": [
      "[[[9 9]\n",
      "  [9 9]\n",
      "  [9 9]]\n",
      "\n",
      " [[9 9]\n",
      "  [9 9]\n",
      "  [9 9]]]\n"
     ]
    }
   ],
   "source": [
    "arr_full_like = np.full_like(arr_full, 9)\n",
    "print(arr_full_like)"
   ]
  },
  {
   "attachments": {},
   "cell_type": "markdown",
   "metadata": {},
   "source": [
    "### 5. Khởi tạo một ma trận đơn vị (identity matrix) kích thước 4x4 bằng phương thức eye()"
   ]
  },
  {
   "cell_type": "code",
   "execution_count": 74,
   "metadata": {},
   "outputs": [
    {
     "name": "stdout",
     "output_type": "stream",
     "text": [
      "[[1. 0. 0. 0.]\n",
      " [0. 1. 0. 0.]\n",
      " [0. 0. 1. 0.]\n",
      " [0. 0. 0. 1.]]\n"
     ]
    }
   ],
   "source": [
    "arr_eye = np.eye(4)\n",
    "print(arr_eye)"
   ]
  },
  {
   "attachments": {},
   "cell_type": "markdown",
   "metadata": {},
   "source": [
    "### 6. Khởi tạo một mảng 2D kích thước 3x3 với các giá trị ngẫu nhiên trong khoảng từ 0 đến 1 bằng phương thức random.random()"
   ]
  },
  {
   "cell_type": "code",
   "execution_count": 79,
   "metadata": {},
   "outputs": [
    {
     "name": "stdout",
     "output_type": "stream",
     "text": [
      "[[0.42594886 0.86780846 0.9891014 ]\n",
      " [0.84165248 0.89497334 0.44454127]\n",
      " [0.90359351 0.83122143 0.13788015]]\n"
     ]
    }
   ],
   "source": [
    "import numpy as np\n",
    "\n",
    "arr_random = np.random.random(size=(3, 3))\n",
    "print(arr_random)"
   ]
  },
  {
   "attachments": {},
   "cell_type": "markdown",
   "metadata": {},
   "source": [
    "## Important Function"
   ]
  },
  {
   "attachments": {},
   "cell_type": "markdown",
   "metadata": {},
   "source": [
    "### Bài 1: Cho một mảng NumPy arr = np.array([1, 5, 8, 10, 3, 6]). Hãy cắt giới hạn các giá trị trong mảng vào khoảng từ 3 đến 8.\n"
   ]
  },
  {
   "cell_type": "code",
   "execution_count": null,
   "metadata": {},
   "outputs": [],
   "source": [
    "import numpy as np\n",
    "\n",
    "arr1 = np.array([1, 5, 8, 10, 3, 6])\n",
    "clipped_arr1 = np.clip(arr1, 3, 8)\n",
    "print(clipped_arr1)"
   ]
  },
  {
   "attachments": {},
   "cell_type": "markdown",
   "metadata": {},
   "source": [
    "### Bài 2: Cho hai mảng NumPy arr1 = np.array([1, 2, 3]) và arr2 = np.array([4, 5, 6]). Hãy nối các mảng lại thành một mảng mới theo chiều ngang.\n"
   ]
  },
  {
   "cell_type": "code",
   "execution_count": 2,
   "metadata": {},
   "outputs": [
    {
     "name": "stdout",
     "output_type": "stream",
     "text": [
      "[1 2 3 4 5 6]\n"
     ]
    }
   ],
   "source": [
    "arr1 = np.array([1, 2, 3])\n",
    "arr2 = np.array([4, 5, 6])\n",
    "concatenated_arr1 = np.concatenate((arr1, arr2))\n",
    "print(concatenated_arr1)"
   ]
  },
  {
   "attachments": {},
   "cell_type": "markdown",
   "metadata": {},
   "source": [
    "### Bài 3: Cho một mảng NumPy arr = np.array([1, 2, 3, 4, 5]). Hãy thêm một trục mới vào mảng.\n"
   ]
  },
  {
   "cell_type": "code",
   "execution_count": 3,
   "metadata": {},
   "outputs": [
    {
     "name": "stdout",
     "output_type": "stream",
     "text": [
      "[[1]\n",
      " [2]\n",
      " [3]\n",
      " [4]\n",
      " [5]]\n"
     ]
    }
   ],
   "source": [
    "arr1 = np.array([1, 2, 3, 4, 5])\n",
    "new_arr1 = arr1[:, np.newaxis]\n",
    "print(new_arr1)"
   ]
  },
  {
   "attachments": {},
   "cell_type": "markdown",
   "metadata": {},
   "source": [
    "### Bài 4: Viết một hàm calculate_circle_area(radius) nhận đầu vào là một mảng radius và trả về một mảng chứa diện tích các hình tròn tương ứng. Sử dụng hàm vectorize để tạo một phiên bản vectorized của hàm này và áp dụng nó cho một mảng radius_values chứa các bán kính [1, 2, 3, 4].\n"
   ]
  },
  {
   "cell_type": "code",
   "execution_count": 7,
   "metadata": {},
   "outputs": [
    {
     "name": "stdout",
     "output_type": "stream",
     "text": [
      "[ 3.14159265 12.56637061 28.27433388 50.26548246]\n"
     ]
    }
   ],
   "source": [
    "import numpy as np\n",
    "\n",
    "def calculate_circle_area(radius):\n",
    "    return np.pi * radius**2\n",
    "\n",
    "# Tạo phiên bản vectorize của hàm calculate_circle_area\n",
    "vectorized_calculate_circle_area = np.vectorize(calculate_circle_area)\n",
    "\n",
    "radius_values = np.array([1, 2, 3, 4])\n",
    "area_values = vectorized_calculate_circle_area(radius_values)\n",
    "\n",
    "print(area_values)\n"
   ]
  },
  {
   "attachments": {},
   "cell_type": "markdown",
   "metadata": {},
   "source": [
    "### Bài 5: Cho một mảng NumPy arr = np.array([1, 2, 3, 4, 5]). Sử dụng hàm where để tạo một mảng mới new_arr, trong đó các phần tử lớn hơn 3 được thay bằng 0 và các phần tử nhỏ hơn hoặc bằng 3 giữ nguyên giá trị.\n"
   ]
  },
  {
   "cell_type": "code",
   "execution_count": 4,
   "metadata": {},
   "outputs": [
    {
     "name": "stdout",
     "output_type": "stream",
     "text": [
      "[1 2 3 0 0]\n"
     ]
    }
   ],
   "source": [
    "import numpy as np\n",
    "\n",
    "arr = np.array([1, 2, 3, 4, 5])\n",
    "new_arr = np.where(arr > 3, 0, arr)\n",
    "\n",
    "print(new_arr)"
   ]
  },
  {
   "attachments": {},
   "cell_type": "markdown",
   "metadata": {},
   "source": [
    "### Bài 6: Cho một mảng hai chiều arr = np.array([[1, 2, 3], [4, 5, 6]]). Sử dụng hàm flatten để biến đổi mảng này thành một mảng một chiều.\n"
   ]
  },
  {
   "cell_type": "code",
   "execution_count": 5,
   "metadata": {},
   "outputs": [
    {
     "name": "stdout",
     "output_type": "stream",
     "text": [
      "[1 2 3 4 5 6]\n"
     ]
    }
   ],
   "source": [
    "import numpy as np\n",
    "\n",
    "arr = np.array([[1, 2, 3], [4, 5, 6]])\n",
    "flattened_arr = arr.flatten()\n",
    "\n",
    "print(flattened_arr)\n"
   ]
  },
  {
   "attachments": {},
   "cell_type": "markdown",
   "metadata": {},
   "source": [
    "### Bài 7: Cho một mảng một chiều arr = np.array([1, 2, 3, 4, 5, 6]). Sử dụng hàm reshape để biến đổi mảng này thành một mảng hai chiều có hình dạng (2, 3).\n"
   ]
  },
  {
   "cell_type": "code",
   "execution_count": 6,
   "metadata": {},
   "outputs": [
    {
     "name": "stdout",
     "output_type": "stream",
     "text": [
      "[[1 2 3]\n",
      " [4 5 6]]\n"
     ]
    }
   ],
   "source": [
    "import numpy as np\n",
    "\n",
    "arr = np.array([1, 2, 3, 4, 5, 6])\n",
    "reshaped_arr = arr.reshape((2, 3))\n",
    "\n",
    "print(reshaped_arr)\n"
   ]
  },
  {
   "cell_type": "code",
   "execution_count": null,
   "metadata": {},
   "outputs": [],
   "source": []
  }
 ],
 "metadata": {
  "kernelspec": {
   "display_name": "aio2023",
   "language": "python",
   "name": "aio2023"
  },
  "language_info": {
   "codemirror_mode": {
    "name": "ipython",
    "version": 3
   },
   "file_extension": ".py",
   "mimetype": "text/x-python",
   "name": "python",
   "nbconvert_exporter": "python",
   "pygments_lexer": "ipython3",
   "version": "3.9.16"
  },
  "orig_nbformat": 4
 },
 "nbformat": 4,
 "nbformat_minor": 2
}
