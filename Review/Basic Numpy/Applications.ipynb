{
 "cells": [
  {
   "cell_type": "code",
   "execution_count": 2,
   "id": "1fce2bb4",
   "metadata": {},
   "outputs": [
    {
     "name": "stdout",
     "output_type": "stream",
     "text": [
      "400 650 3\n",
      "uint8\n"
     ]
    },
    {
     "data": {
      "text/plain": [
       "True"
      ]
     },
     "execution_count": 2,
     "metadata": {},
     "output_type": "execute_result"
    }
   ],
   "source": [
    "import cv2\n",
    "import numpy as np\n",
    "import matplotlib.pyplot as plt\n",
    "\n",
    "img = cv2.imread('nature.jpg', 1)\n",
    "height, width, channel = img.shape\n",
    "print(height, width, channel)\n",
    "print(img.dtype)\n",
    "\n",
    "cv2.imwrite('output.jpg', img)"
   ]
  },
  {
   "attachments": {},
   "cell_type": "markdown",
   "id": "8ad49341",
   "metadata": {},
   "source": [
    "### Increate brightness"
   ]
  },
  {
   "cell_type": "code",
   "execution_count": 2,
   "id": "6b913829",
   "metadata": {},
   "outputs": [
    {
     "name": "stdout",
     "output_type": "stream",
     "text": [
      "[ -4   3   8 300   7]\n",
      "[  0   3   8 255   7]\n"
     ]
    }
   ],
   "source": [
    "data = np.array([-4, 3, 8, 300, 7])\n",
    "print(data)\n",
    "\n",
    "data = np.clip(data, 0, 255)\n",
    "print(data)"
   ]
  },
  {
   "attachments": {},
   "cell_type": "markdown",
   "id": "df5a2331",
   "metadata": {},
   "source": [
    "#### Cách 1"
   ]
  },
  {
   "cell_type": "code",
   "execution_count": 19,
   "id": "f56f5258",
   "metadata": {},
   "outputs": [],
   "source": [
    "import cv2\n",
    "import numpy as np\n",
    "import matplotlib.pyplot as plt\n",
    "\n",
    "img = cv2.imread('nature.jpg', 1)\n",
    "img = img.astype(float)\n",
    "\n",
    "h, w, c = img.shape\n",
    "for i in range(h):\n",
    "    for j in range(w):\n",
    "        for k in range(c):\n",
    "            img[i, j, k] = img[i, j, k] + 50\n",
    "            if img[i, j, k] <0:\n",
    "                img[i, j, k] = 0\n",
    "            elif img[i, j, k] >255:\n",
    "                img[i, j, k] = 255\n",
    "                \n",
    "img = img.astype('uint8')\n",
    "cv2.imwrite('increase50_loop.jpg', img)\n",
    "cv2.imshow(\"img\", img)\n",
    "cv2.waitKey(0)\n",
    "cv2.destroyAllWindows()"
   ]
  },
  {
   "attachments": {},
   "cell_type": "markdown",
   "id": "b319c4c4",
   "metadata": {},
   "source": [
    "#### Cách 2"
   ]
  },
  {
   "cell_type": "code",
   "execution_count": 18,
   "id": "ad769e7c",
   "metadata": {},
   "outputs": [],
   "source": [
    "import cv2\n",
    "import numpy as np\n",
    "import matplotlib.pyplot as plt\n",
    "\n",
    "img = cv2.imread('nature.jpg', 1)\n",
    "img = img.astype(float)\n",
    "\n",
    "img = img + 50\n",
    "img = np.clip(img, 0, 255)\n",
    "\n",
    "img = img.astype(np.uint8)\n",
    "cv2.imwrite('increase50_clip.jpg', img)\n",
    "cv2.imshow(\"img\", img)\n",
    "cv2.waitKey(0)\n",
    "cv2.destroyAllWindows()"
   ]
  },
  {
   "attachments": {},
   "cell_type": "markdown",
   "id": "1fbe93d1",
   "metadata": {},
   "source": [
    "#### Cách 3"
   ]
  },
  {
   "cell_type": "code",
   "execution_count": 19,
   "id": "9af2ed0b",
   "metadata": {},
   "outputs": [
    {
     "name": "stdout",
     "output_type": "stream",
     "text": [
      "[ -4.   3.   8. 300.   7.]\n",
      "float64\n",
      "[  0.   3.   8. 300.   7.]\n",
      "[  0.   3.   8. 255.   7.]\n"
     ]
    }
   ],
   "source": [
    "data = np.array([-4., 3, 8, 300, 7])\n",
    "print(data)\n",
    "print(data.dtype)\n",
    "\n",
    "data = np.where(data<0, 0, data)\n",
    "print(data)\n",
    "\n",
    "data = np.where(data>255, 255, data)\n",
    "print(data)"
   ]
  },
  {
   "cell_type": "code",
   "execution_count": 23,
   "id": "fa351b78",
   "metadata": {},
   "outputs": [
    {
     "data": {
      "text/plain": [
       "True"
      ]
     },
     "execution_count": 23,
     "metadata": {},
     "output_type": "execute_result"
    }
   ],
   "source": [
    "import cv2\n",
    "import numpy as np\n",
    "import matplotlib.pyplot as plt\n",
    "\n",
    "img = cv2.imread('nature.jpg', 1)\n",
    "img = img.astype(float)\n",
    "\n",
    "img = img + 50\n",
    "img = np.where(img<0., 0., img)\n",
    "img = np.where(img>255., 255., img)\n",
    "\n",
    "img = img.astype(np.uint8)\n",
    "cv2.imwrite('increase50_where.jpg', img)"
   ]
  },
  {
   "attachments": {},
   "cell_type": "markdown",
   "id": "0f60bdd1",
   "metadata": {},
   "source": [
    "### Decrease brightness"
   ]
  },
  {
   "attachments": {},
   "cell_type": "markdown",
   "id": "496dad3f",
   "metadata": {},
   "source": [
    "#### Cách 1"
   ]
  },
  {
   "cell_type": "code",
   "execution_count": 27,
   "id": "054361b3",
   "metadata": {},
   "outputs": [],
   "source": [
    "import cv2\n",
    "import numpy as np\n",
    "import matplotlib.pyplot as plt\n",
    "\n",
    "img = cv2.imread('nature.jpg', 1)\n",
    "img = img.astype(float)\n",
    "\n",
    "h, w, c = img.shape\n",
    "for i in range(h):\n",
    "    for j in range(w):\n",
    "        for k in range(c):\n",
    "            img[i, j, k] = img[i, j, k] -80\n",
    "            if img[i, j, k] <0:\n",
    "                img[i, j, k] = 0\n",
    "            elif img[i, j, k] >255:\n",
    "                img[i, j, k] = 255\n",
    "                \n",
    "img = img.astype('uint8')\n",
    "cv2.imwrite('decrease80_loop.jpg', img)\n",
    "cv2.imshow(\"img\", img)\n",
    "cv2.waitKey(0)\n",
    "cv2.destroyAllWindows()"
   ]
  },
  {
   "attachments": {},
   "cell_type": "markdown",
   "id": "d2c591e8",
   "metadata": {},
   "source": [
    "#### Cách 2"
   ]
  },
  {
   "cell_type": "code",
   "execution_count": 28,
   "id": "7d23125f",
   "metadata": {},
   "outputs": [],
   "source": [
    "import cv2\n",
    "import numpy as np\n",
    "import matplotlib.pyplot as plt\n",
    "\n",
    "img = cv2.imread('nature.jpg', 1)\n",
    "img = img.astype(float)\n",
    "\n",
    "img = img - 80\n",
    "img = np.clip(img, 0, 255)\n",
    "\n",
    "img = img.astype(np.uint8)\n",
    "cv2.imwrite('decrease80_clip.jpg', img)\n",
    "cv2.imshow(\"img\", img)\n",
    "cv2.waitKey(0)\n",
    "cv2.destroyAllWindows()"
   ]
  },
  {
   "attachments": {},
   "cell_type": "markdown",
   "id": "409a3ac3",
   "metadata": {},
   "source": [
    "#### Cách 3"
   ]
  },
  {
   "cell_type": "code",
   "execution_count": 25,
   "id": "6d0666b2",
   "metadata": {},
   "outputs": [],
   "source": [
    "import cv2\n",
    "import numpy as np\n",
    "import matplotlib.pyplot as plt\n",
    "\n",
    "img = cv2.imread('nature.jpg', 1)\n",
    "img = img.astype(float)\n",
    "\n",
    "img = img - 80\n",
    "img = np.where(img<0., 0., img)\n",
    "img = np.where(img>255., 255., img)\n",
    "\n",
    "img = img.astype(np.uint8)\n",
    "cv2.imwrite('decrease80_where.jpg', img)\n",
    "cv2.imshow(\"img\", img)\n",
    "cv2.waitKey(0)\n",
    "cv2.destroyAllWindows()"
   ]
  },
  {
   "attachments": {},
   "cell_type": "markdown",
   "id": "29d2931a",
   "metadata": {},
   "source": [
    "### Flipping"
   ]
  },
  {
   "cell_type": "code",
   "execution_count": 31,
   "id": "13dd57d2",
   "metadata": {},
   "outputs": [],
   "source": [
    "import cv2\n",
    "import numpy as np\n",
    "import matplotlib.pyplot as plt\n",
    "\n",
    "# Đọc ảnh gốc\n",
    "img = cv2.imread('nature.jpg', 1)\n",
    "\n",
    "# Chuyển đổi kiểu dữ liệu của ảnh sang kiểu float\n",
    "img = img.astype(float)\n",
    "\n",
    "# Lấy kích thước (chiều cao, chiều rộng, độ sâu) của ảnh\n",
    "height, width, depth = img.shape\n",
    "\n",
    "# Ma trận biến đổi (xoay ngược theo trục y)\n",
    "transform = np.array([[1, 0],\n",
    "                      [0, -1]])\n",
    "\n",
    "# Khởi tạo ảnh đầu ra với kích thước tương tự ảnh gốc\n",
    "output = np.zeros((height, width, depth))\n",
    "\n",
    "# Duyệt qua từng pixel trong ảnh gốc\n",
    "for i in range(height):\n",
    "    for j in range(width):\n",
    "        # Lấy giá trị pixel tại vị trí (i, j)\n",
    "        pixel = img[i, j, :]\n",
    "\n",
    "        # Áp dụng ma trận biến đổi để tính toán vị trí mới\n",
    "        new_j, new_i = transform.dot(np.array([j, i])) + [0, height-1]\n",
    "\n",
    "        # Gán giá trị pixel vào vị trí mới trong ảnh đầu ra\n",
    "        output[new_i, new_j, :] = pixel\n",
    "\n",
    "# Chuyển đổi kiểu dữ liệu của ảnh đầu ra sang kiểu uint8\n",
    "output = output.astype(np.uint8)\n",
    "\n",
    "# Lưu ảnh đầu ra thành file\n",
    "cv2.imwrite('flipping_x.jpg', output)\n",
    "\n",
    "# Hiển thị ảnh đầu ra\n",
    "cv2.imshow(\"img\", output)\n",
    "cv2.waitKey(0)\n",
    "cv2.destroyAllWindows()\n"
   ]
  },
  {
   "cell_type": "code",
   "execution_count": null,
   "id": "c81e3c5e",
   "metadata": {},
   "outputs": [],
   "source": [
    "import cv2\n",
    "import numpy as np\n",
    "import matplotlib.pyplot as plt\n",
    "\n",
    "# Đọc ảnh gốc\n",
    "img = cv2.imread('nature.jpg', 1)\n",
    "\n",
    "# Chuyển đổi kiểu dữ liệu của ảnh sang kiểu float\n",
    "img = img.astype(float)\n",
    "\n",
    "# Lấy kích thước (chiều cao, chiều rộng, độ sâu) của ảnh\n",
    "height, width, depth = img.shape\n",
    "\n",
    "# Ma trận biến đổi (xoay ngược theo trục y)\n",
    "transform = np.array([[-1, 0],\n",
    "                      [0, 1]])\n",
    "\n",
    "# Khởi tạo ảnh đầu ra với kích thước tương tự ảnh gốc\n",
    "output = np.zeros((height, width, depth))\n",
    "\n",
    "# Duyệt qua từng pixel trong ảnh gốc\n",
    "for i in range(height):\n",
    "    for j in range(width):\n",
    "        # Lấy giá trị pixel tại vị trí (i, j)\n",
    "        pixel = img[i, j, :]\n",
    "\n",
    "        # Áp dụng ma trận biến đổi để tính toán vị trí mới\n",
    "        new_j, new_i = transform.dot(np.array([j, i])) + [width-1, 0]\n",
    "\n",
    "        # Gán giá trị pixel vào vị trí mới trong ảnh đầu ra\n",
    "        output[new_i, new_j, :] = pixel\n",
    "\n",
    "# Chuyển đổi kiểu dữ liệu của ảnh đầu ra sang kiểu uint8\n",
    "output = output.astype(np.uint8)\n",
    "\n",
    "# Lưu ảnh đầu ra thành file\n",
    "cv2.imwrite('flipping_y.jpg', output)\n",
    "\n",
    "# Hiển thị ảnh đầu ra\n",
    "cv2.imshow(\"img\", output)\n",
    "cv2.waitKey(0)\n",
    "cv2.destroyAllWindows()\n"
   ]
  },
  {
   "attachments": {},
   "cell_type": "markdown",
   "id": "c02cd4d3",
   "metadata": {},
   "source": [
    "### Convert to grayscale"
   ]
  },
  {
   "attachments": {},
   "cell_type": "markdown",
   "id": "e926d433",
   "metadata": {},
   "source": [
    "#### Cách 1"
   ]
  },
  {
   "cell_type": "code",
   "execution_count": 45,
   "id": "f68bc12d",
   "metadata": {},
   "outputs": [],
   "source": [
    "import cv2\n",
    "import numpy as np\n",
    "\n",
    "img = cv2.imread('nature.jpg', 1)\n",
    "transform = np.array([0.072, 0.213, 0.715])\n",
    "\n",
    "height, width, depth = img.shape\n",
    "output = np.zeros((height, width, depth))\n",
    "for i in range(height):\n",
    "    for j in range(width):\n",
    "        for k in range(depth):\n",
    "            output[i, j] += img[i, j, k] * transform[k]\n",
    "output = output.astype('uint8')\n",
    "cv2.imwrite('nature_grayscale_loop.jpg', output)\n",
    "cv2.imshow(\"img\", output)\n",
    "cv2.waitKey(0)\n",
    "cv2.destroyAllWindows()"
   ]
  },
  {
   "attachments": {},
   "cell_type": "markdown",
   "id": "403bb337",
   "metadata": {},
   "source": [
    "#### Cách 2"
   ]
  },
  {
   "cell_type": "code",
   "execution_count": 42,
   "id": "c9362440",
   "metadata": {},
   "outputs": [],
   "source": [
    "import cv2\n",
    "import numpy as np\n",
    "\n",
    "img = cv2.imread('nature.jpg', 1)\n",
    "transform = np.array([0.072, 0.213, 0.715])\n",
    "\n",
    "output = (img@transform).astype(\"uint8\")\n",
    "cv2.imwrite('nature_grayscale_1.jpg', output)\n",
    "cv2.imshow(\"img\", output)\n",
    "cv2.waitKey(0)\n",
    "cv2.destroyAllWindows()"
   ]
  },
  {
   "cell_type": "code",
   "execution_count": 43,
   "id": "5240b04b",
   "metadata": {},
   "outputs": [
    {
     "data": {
      "text/plain": [
       "(400, 650)"
      ]
     },
     "execution_count": 43,
     "metadata": {},
     "output_type": "execute_result"
    }
   ],
   "source": [
    "output.shape"
   ]
  },
  {
   "attachments": {},
   "cell_type": "markdown",
   "id": "4631e30b",
   "metadata": {},
   "source": [
    "#### Cách 3"
   ]
  },
  {
   "cell_type": "code",
   "execution_count": 39,
   "id": "31984480",
   "metadata": {},
   "outputs": [],
   "source": [
    "import cv2\n",
    "import numpy as np\n",
    "\n",
    "img = cv2.imread('nature.jpg', 1)\n",
    "transform = np.array([0.072, 0.213, 0.715])\n",
    "\n",
    "output = img.dot(transform).astype(\"uint8\")\n",
    "cv2.imwrite('nature_grayscale_2.jpg', output)\n",
    "cv2.imshow(\"img\", output)\n",
    "cv2.waitKey(0)\n",
    "cv2.destroyAllWindows()"
   ]
  },
  {
   "attachments": {},
   "cell_type": "markdown",
   "id": "99c6e02c",
   "metadata": {},
   "source": [
    "### Background substraction"
   ]
  },
  {
   "cell_type": "code",
   "execution_count": 3,
   "id": "4aca950a",
   "metadata": {},
   "outputs": [],
   "source": [
    "fake_background = cv2.imread(\"colorfull-2.jpg\")\n",
    "fake_background = cv2.resize(fake_background, (600, 400))\n",
    "cv2.imshow(\"fake background\", fake_background)\n",
    "cv2.waitKey(0)\n",
    "cv2.destroyAllWindows()"
   ]
  },
  {
   "cell_type": "code",
   "execution_count": 4,
   "id": "02e23f3e",
   "metadata": {},
   "outputs": [],
   "source": [
    "img1 = cv2.imread('maxresdefault.jpg')\n",
    "img1 = cv2.resize(img1, (600, 400))\n",
    "\n",
    "background = cv2.imread('background.jpg')\n",
    "background = cv2.resize(background, (600, 400))\n",
    "\n",
    "cv2.imshow(\"img1\", img1)\n",
    "cv2.imshow(\"img2\", background)\n",
    "\n",
    "cv2.waitKey(0)\n",
    "cv2.destroyAllWindows()\n"
   ]
  },
  {
   "cell_type": "code",
   "execution_count": 5,
   "id": "dd950233",
   "metadata": {},
   "outputs": [
    {
     "data": {
      "text/plain": [
       "True"
      ]
     },
     "execution_count": 5,
     "metadata": {},
     "output_type": "execute_result"
    }
   ],
   "source": [
    "diff = np.subtract(img1, background)\n",
    "cv2.imshow(\"diff\", diff)\n",
    "\n",
    "cv2.waitKey(0)\n",
    "cv2.destroyAllWindows()\n",
    "cv2.imwrite(\"substraction_bg.jpg\", diff)"
   ]
  },
  {
   "cell_type": "code",
   "execution_count": 132,
   "id": "f3a7aba5",
   "metadata": {},
   "outputs": [
    {
     "data": {
      "text/plain": [
       "array([[  2, 253,   7],\n",
       "       [  7,   7,  12],\n",
       "       [  7,   9,  11],\n",
       "       ...,\n",
       "       [  5,   9,   9],\n",
       "       [  5,   8,   9],\n",
       "       [  4,   4,   8]], dtype=uint8)"
      ]
     },
     "execution_count": 132,
     "metadata": {},
     "output_type": "execute_result"
    }
   ],
   "source": [
    "diff[0, :, :]"
   ]
  },
  {
   "cell_type": "code",
   "execution_count": 10,
   "id": "920b573c",
   "metadata": {},
   "outputs": [],
   "source": [
    "height, width, depth = img1.shape\n",
    "output = np.zeros((height, width, depth))\n",
    "for i in range(height):\n",
    "    for j in range(width):\n",
    "        for k in range(depth):\n",
    "            if diff[i, j, k] <100:\n",
    "                output[i, j, k] = fake_background[i, j, k]\n",
    "            else:\n",
    "                output[i, j, k] = img1[i, j, k]"
   ]
  },
  {
   "cell_type": "code",
   "execution_count": 11,
   "id": "00767a75",
   "metadata": {},
   "outputs": [
    {
     "data": {
      "text/plain": [
       "True"
      ]
     },
     "execution_count": 11,
     "metadata": {},
     "output_type": "execute_result"
    }
   ],
   "source": [
    "output = output.astype('uint8')\n",
    "cv2.imshow(\"output\", output)\n",
    "\n",
    "cv2.waitKey(0)\n",
    "cv2.destroyAllWindows()\n",
    "cv2.imwrite(\"output_sub_bg.jpg\", output)"
   ]
  },
  {
   "cell_type": "code",
   "execution_count": 60,
   "id": "1d76cd40",
   "metadata": {},
   "outputs": [
    {
     "name": "stdout",
     "output_type": "stream",
     "text": [
      "Đã lưu hình ảnh thành công.\n"
     ]
    }
   ],
   "source": [
    "# import cv2\n",
    "\n",
    "# # Tạo đối tượng VideoCapture để đọc video từ camera\n",
    "# cap = cv2.VideoCapture(0)  # Số 0 thể hiện camera mặc định, nếu có nhiều camera, hãy chọn số thích hợp.\n",
    "\n",
    "# # Kiểm tra xem camera có mở thành công hay không\n",
    "# if not cap.isOpened():\n",
    "#     print(\"Không thể mở camera.\")\n",
    "#     exit()\n",
    "\n",
    "# # Đọc khung hình từ camera\n",
    "# ret, frame = cap.read()\n",
    "\n",
    "# # Kiểm tra xem việc đọc khung hình có thành công hay không\n",
    "# if not ret:\n",
    "#     print(\"Không thể đọc khung hình.\")\n",
    "#     exit()\n",
    "\n",
    "# # Lưu khung hình thành tệp tin hình ảnh\n",
    "# cv2.imwrite('captured_image.jpg', frame)\n",
    "\n",
    "# # Hiển thị thông báo lưu thành công\n",
    "# print(\"Đã lưu hình ảnh thành công.\")\n",
    "\n",
    "# # Giải phóng tài nguyên\n",
    "# cap.release()\n",
    "# cv2.destroyAllWindows()\n"
   ]
  },
  {
   "cell_type": "code",
   "execution_count": 58,
   "id": "a6c44c41",
   "metadata": {},
   "outputs": [],
   "source": [
    "# # Tạo đối tượng VideoCapture để đọc video từ camera\n",
    "# cap = cv2.VideoCapture(0)  # Số 0 thể hiện camera mặc định, nếu có nhiều camera, hãy chọn số thích hợp.\n",
    "\n",
    "# # Kiểm tra xem camera có mở thành công hay không\n",
    "# if not cap.isOpened():\n",
    "#     print(\"Không thể mở camera.\")\n",
    "#     exit()\n",
    "\n",
    "# # Vòng lặp để đọc từng khung hình từ camera\n",
    "# while True:\n",
    "#     # Đọc khung hình từ camera\n",
    "#     ret, frame = cap.read()\n",
    "\n",
    "#     # Kiểm tra xem việc đọc khung hình có thành công hay không\n",
    "#     if not ret:\n",
    "#         print(\"Không thể đọc khung hình.\")\n",
    "#         break\n",
    "    \n",
    "#     # Hiển thị khung hình\n",
    "#     cv2.imshow('Camera', frame)\n",
    "\n",
    "#     # Thoát vòng lặp nếu nhấn phím 'q'\n",
    "#     if cv2.waitKey(1) == ord('q'):\n",
    "#         break\n",
    "\n",
    "# # Giải phóng tài nguyên\n",
    "# cap.release()\n",
    "# cv2.destroyAllWindows()"
   ]
  },
  {
   "cell_type": "code",
   "execution_count": null,
   "id": "6c5e2caf",
   "metadata": {},
   "outputs": [],
   "source": []
  }
 ],
 "metadata": {
  "kernelspec": {
   "display_name": "aio2023",
   "language": "python",
   "name": "aio2023"
  },
  "language_info": {
   "codemirror_mode": {
    "name": "ipython",
    "version": 3
   },
   "file_extension": ".py",
   "mimetype": "text/x-python",
   "name": "python",
   "nbconvert_exporter": "python",
   "pygments_lexer": "ipython3",
   "version": "3.9.16"
  }
 },
 "nbformat": 4,
 "nbformat_minor": 5
}
